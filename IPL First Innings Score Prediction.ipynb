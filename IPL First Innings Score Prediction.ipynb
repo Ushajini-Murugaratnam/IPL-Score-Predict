{
 "cells": [
  {
   "cell_type": "markdown",
   "id": "433947d9",
   "metadata": {
    "_cell_guid": "b1076dfc-b9ad-4769-8c92-a6c4dae69d19",
    "_uuid": "8f2839f25d086af736a60e9eeb907d3b93b6e0e5",
    "papermill": {
     "duration": 0.039436,
     "end_time": "2021-08-04T14:23:52.218018",
     "exception": false,
     "start_time": "2021-08-04T14:23:52.178582",
     "status": "completed"
    },
    "tags": []
   },
   "source": [
    "#  IPL First Innings Score Prediction "
   ]
  },
  {
   "cell_type": "code",
   "execution_count": 331,
   "id": "68bd9501",
   "metadata": {
    "execution": {
     "iopub.execute_input": "2021-08-04T14:23:52.331191Z",
     "iopub.status.busy": "2021-08-04T14:23:52.329343Z",
     "iopub.status.idle": "2021-08-04T14:23:52.332236Z",
     "shell.execute_reply": "2021-08-04T14:23:52.332990Z",
     "shell.execute_reply.started": "2021-08-04T14:23:06.865319Z"
    },
    "papermill": {
     "duration": 0.074524,
     "end_time": "2021-08-04T14:23:52.333320",
     "exception": false,
     "start_time": "2021-08-04T14:23:52.258796",
     "status": "completed"
    },
    "tags": []
   },
   "outputs": [],
   "source": [
    "#import Libraries\n",
    "import numpy as np\n",
    "import pandas as pd\n",
    "import pickle\n",
    "import joblib"
   ]
  },
  {
   "cell_type": "code",
   "execution_count": 332,
   "id": "afc7a3c3",
   "metadata": {
    "execution": {
     "iopub.execute_input": "2021-08-04T14:23:52.420685Z",
     "iopub.status.busy": "2021-08-04T14:23:52.419966Z",
     "iopub.status.idle": "2021-08-04T14:23:52.825689Z",
     "shell.execute_reply": "2021-08-04T14:23:52.824989Z",
     "shell.execute_reply.started": "2021-08-04T14:23:06.872689Z"
    },
    "papermill": {
     "duration": 0.448137,
     "end_time": "2021-08-04T14:23:52.825849",
     "exception": false,
     "start_time": "2021-08-04T14:23:52.377712",
     "status": "completed"
    },
    "tags": []
   },
   "outputs": [],
   "source": [
    "# loading the dataset\n",
    "DataFrame = pd.read_csv('IPL_2008-17.csv')"
   ]
  },
  {
   "cell_type": "code",
   "execution_count": 333,
   "id": "55cf2b22",
   "metadata": {
    "execution": {
     "iopub.execute_input": "2021-08-04T14:23:52.910305Z",
     "iopub.status.busy": "2021-08-04T14:23:52.909459Z",
     "iopub.status.idle": "2021-08-04T14:23:52.912844Z",
     "shell.execute_reply": "2021-08-04T14:23:52.913363Z",
     "shell.execute_reply.started": "2021-08-04T14:23:07.074718Z"
    },
    "papermill": {
     "duration": 0.049731,
     "end_time": "2021-08-04T14:23:52.913535",
     "exception": false,
     "start_time": "2021-08-04T14:23:52.863804",
     "status": "completed"
    },
    "tags": []
   },
   "outputs": [
    {
     "data": {
      "text/plain": [
       "Index(['mid', 'date', 'venue', 'bat_team', 'bowl_team', 'batsman', 'bowler',\n",
       "       'runs', 'wickets', 'overs', 'runs_last_5', 'wickets_last_5', 'striker',\n",
       "       'non-striker', 'total'],\n",
       "      dtype='object')"
      ]
     },
     "execution_count": 333,
     "metadata": {},
     "output_type": "execute_result"
    }
   ],
   "source": [
    "DataFrame.columns"
   ]
  },
  {
   "cell_type": "code",
   "execution_count": 334,
   "id": "614da2a2",
   "metadata": {
    "execution": {
     "iopub.execute_input": "2021-08-04T14:23:52.994248Z",
     "iopub.status.busy": "2021-08-04T14:23:52.993552Z",
     "iopub.status.idle": "2021-08-04T14:23:52.998171Z",
     "shell.execute_reply": "2021-08-04T14:23:52.998631Z",
     "shell.execute_reply.started": "2021-08-04T14:23:07.082553Z"
    },
    "papermill": {
     "duration": 0.046619,
     "end_time": "2021-08-04T14:23:52.998803",
     "exception": false,
     "start_time": "2021-08-04T14:23:52.952184",
     "status": "completed"
    },
    "tags": []
   },
   "outputs": [
    {
     "data": {
      "text/plain": [
       "(76014, 15)"
      ]
     },
     "execution_count": 334,
     "metadata": {},
     "output_type": "execute_result"
    }
   ],
   "source": [
    "DataFrame.shape"
   ]
  },
  {
   "cell_type": "code",
   "execution_count": 335,
   "id": "094c4a85",
   "metadata": {
    "execution": {
     "iopub.execute_input": "2021-08-04T14:23:53.080278Z",
     "iopub.status.busy": "2021-08-04T14:23:53.079563Z",
     "iopub.status.idle": "2021-08-04T14:23:53.094834Z",
     "shell.execute_reply": "2021-08-04T14:23:53.094260Z",
     "shell.execute_reply.started": "2021-08-04T14:23:07.097821Z"
    },
    "papermill": {
     "duration": 0.056101,
     "end_time": "2021-08-04T14:23:53.094974",
     "exception": false,
     "start_time": "2021-08-04T14:23:53.038873",
     "status": "completed"
    },
    "tags": []
   },
   "outputs": [
    {
     "data": {
      "text/plain": [
       "mid                 int64\n",
       "date               object\n",
       "venue              object\n",
       "bat_team           object\n",
       "bowl_team          object\n",
       "batsman            object\n",
       "bowler             object\n",
       "runs                int64\n",
       "wickets             int64\n",
       "overs             float64\n",
       "runs_last_5         int64\n",
       "wickets_last_5      int64\n",
       "striker             int64\n",
       "non-striker         int64\n",
       "total               int64\n",
       "dtype: object"
      ]
     },
     "execution_count": 335,
     "metadata": {},
     "output_type": "execute_result"
    }
   ],
   "source": [
    "DataFrame.dtypes"
   ]
  },
  {
   "cell_type": "code",
   "execution_count": 336,
   "id": "58d555f6",
   "metadata": {
    "execution": {
     "iopub.execute_input": "2021-08-04T14:23:53.176883Z",
     "iopub.status.busy": "2021-08-04T14:23:53.175849Z",
     "iopub.status.idle": "2021-08-04T14:23:53.201816Z",
     "shell.execute_reply": "2021-08-04T14:23:53.201108Z",
     "shell.execute_reply.started": "2021-08-04T14:23:07.112318Z"
    },
    "papermill": {
     "duration": 0.068325,
     "end_time": "2021-08-04T14:23:53.201963",
     "exception": false,
     "start_time": "2021-08-04T14:23:53.133638",
     "status": "completed"
    },
    "tags": []
   },
   "outputs": [
    {
     "data": {
      "text/html": [
       "<div>\n",
       "<style scoped>\n",
       "    .dataframe tbody tr th:only-of-type {\n",
       "        vertical-align: middle;\n",
       "    }\n",
       "\n",
       "    .dataframe tbody tr th {\n",
       "        vertical-align: top;\n",
       "    }\n",
       "\n",
       "    .dataframe thead th {\n",
       "        text-align: right;\n",
       "    }\n",
       "</style>\n",
       "<table border=\"1\" class=\"dataframe\">\n",
       "  <thead>\n",
       "    <tr style=\"text-align: right;\">\n",
       "      <th></th>\n",
       "      <th>mid</th>\n",
       "      <th>date</th>\n",
       "      <th>venue</th>\n",
       "      <th>bat_team</th>\n",
       "      <th>bowl_team</th>\n",
       "      <th>batsman</th>\n",
       "      <th>bowler</th>\n",
       "      <th>runs</th>\n",
       "      <th>wickets</th>\n",
       "      <th>overs</th>\n",
       "      <th>runs_last_5</th>\n",
       "      <th>wickets_last_5</th>\n",
       "      <th>striker</th>\n",
       "      <th>non-striker</th>\n",
       "      <th>total</th>\n",
       "    </tr>\n",
       "  </thead>\n",
       "  <tbody>\n",
       "    <tr>\n",
       "      <th>0</th>\n",
       "      <td>1</td>\n",
       "      <td>2008-04-18</td>\n",
       "      <td>M Chinnaswamy Stadium</td>\n",
       "      <td>Kolkata Knight Riders</td>\n",
       "      <td>Royal Challengers Bangalore</td>\n",
       "      <td>SC Ganguly</td>\n",
       "      <td>P Kumar</td>\n",
       "      <td>1</td>\n",
       "      <td>0</td>\n",
       "      <td>0.1</td>\n",
       "      <td>1</td>\n",
       "      <td>0</td>\n",
       "      <td>0</td>\n",
       "      <td>0</td>\n",
       "      <td>222</td>\n",
       "    </tr>\n",
       "    <tr>\n",
       "      <th>1</th>\n",
       "      <td>1</td>\n",
       "      <td>2008-04-18</td>\n",
       "      <td>M Chinnaswamy Stadium</td>\n",
       "      <td>Kolkata Knight Riders</td>\n",
       "      <td>Royal Challengers Bangalore</td>\n",
       "      <td>BB McCullum</td>\n",
       "      <td>P Kumar</td>\n",
       "      <td>1</td>\n",
       "      <td>0</td>\n",
       "      <td>0.2</td>\n",
       "      <td>1</td>\n",
       "      <td>0</td>\n",
       "      <td>0</td>\n",
       "      <td>0</td>\n",
       "      <td>222</td>\n",
       "    </tr>\n",
       "    <tr>\n",
       "      <th>2</th>\n",
       "      <td>1</td>\n",
       "      <td>2008-04-18</td>\n",
       "      <td>M Chinnaswamy Stadium</td>\n",
       "      <td>Kolkata Knight Riders</td>\n",
       "      <td>Royal Challengers Bangalore</td>\n",
       "      <td>BB McCullum</td>\n",
       "      <td>P Kumar</td>\n",
       "      <td>2</td>\n",
       "      <td>0</td>\n",
       "      <td>0.2</td>\n",
       "      <td>2</td>\n",
       "      <td>0</td>\n",
       "      <td>0</td>\n",
       "      <td>0</td>\n",
       "      <td>222</td>\n",
       "    </tr>\n",
       "    <tr>\n",
       "      <th>3</th>\n",
       "      <td>1</td>\n",
       "      <td>2008-04-18</td>\n",
       "      <td>M Chinnaswamy Stadium</td>\n",
       "      <td>Kolkata Knight Riders</td>\n",
       "      <td>Royal Challengers Bangalore</td>\n",
       "      <td>BB McCullum</td>\n",
       "      <td>P Kumar</td>\n",
       "      <td>2</td>\n",
       "      <td>0</td>\n",
       "      <td>0.3</td>\n",
       "      <td>2</td>\n",
       "      <td>0</td>\n",
       "      <td>0</td>\n",
       "      <td>0</td>\n",
       "      <td>222</td>\n",
       "    </tr>\n",
       "    <tr>\n",
       "      <th>4</th>\n",
       "      <td>1</td>\n",
       "      <td>2008-04-18</td>\n",
       "      <td>M Chinnaswamy Stadium</td>\n",
       "      <td>Kolkata Knight Riders</td>\n",
       "      <td>Royal Challengers Bangalore</td>\n",
       "      <td>BB McCullum</td>\n",
       "      <td>P Kumar</td>\n",
       "      <td>2</td>\n",
       "      <td>0</td>\n",
       "      <td>0.4</td>\n",
       "      <td>2</td>\n",
       "      <td>0</td>\n",
       "      <td>0</td>\n",
       "      <td>0</td>\n",
       "      <td>222</td>\n",
       "    </tr>\n",
       "  </tbody>\n",
       "</table>\n",
       "</div>"
      ],
      "text/plain": [
       "   mid        date                  venue               bat_team  \\\n",
       "0    1  2008-04-18  M Chinnaswamy Stadium  Kolkata Knight Riders   \n",
       "1    1  2008-04-18  M Chinnaswamy Stadium  Kolkata Knight Riders   \n",
       "2    1  2008-04-18  M Chinnaswamy Stadium  Kolkata Knight Riders   \n",
       "3    1  2008-04-18  M Chinnaswamy Stadium  Kolkata Knight Riders   \n",
       "4    1  2008-04-18  M Chinnaswamy Stadium  Kolkata Knight Riders   \n",
       "\n",
       "                     bowl_team      batsman   bowler  runs  wickets  overs  \\\n",
       "0  Royal Challengers Bangalore   SC Ganguly  P Kumar     1        0    0.1   \n",
       "1  Royal Challengers Bangalore  BB McCullum  P Kumar     1        0    0.2   \n",
       "2  Royal Challengers Bangalore  BB McCullum  P Kumar     2        0    0.2   \n",
       "3  Royal Challengers Bangalore  BB McCullum  P Kumar     2        0    0.3   \n",
       "4  Royal Challengers Bangalore  BB McCullum  P Kumar     2        0    0.4   \n",
       "\n",
       "   runs_last_5  wickets_last_5  striker  non-striker  total  \n",
       "0            1               0        0            0    222  \n",
       "1            1               0        0            0    222  \n",
       "2            2               0        0            0    222  \n",
       "3            2               0        0            0    222  \n",
       "4            2               0        0            0    222  "
      ]
     },
     "execution_count": 336,
     "metadata": {},
     "output_type": "execute_result"
    }
   ],
   "source": [
    "DataFrame.head()"
   ]
  },
  {
   "cell_type": "markdown",
   "id": "6937d57e",
   "metadata": {
    "execution": {
     "iopub.execute_input": "2021-08-03T16:30:54.267091Z",
     "iopub.status.busy": "2021-08-03T16:30:54.266632Z",
     "iopub.status.idle": "2021-08-03T16:30:54.272094Z",
     "shell.execute_reply": "2021-08-03T16:30:54.270602Z",
     "shell.execute_reply.started": "2021-08-03T16:30:54.267053Z"
    },
    "papermill": {
     "duration": 0.040698,
     "end_time": "2021-08-04T14:23:53.283188",
     "exception": false,
     "start_time": "2021-08-04T14:23:53.242490",
     "status": "completed"
    },
    "tags": []
   },
   "source": [
    "# **Data Cleaning**\n",
    " Points covered under this section: \n",
    " • Removing unwanted and Empty columns,\n",
    " • Keeping only consist teams,\n",
    " • Removing the first 5 overs data,\n",
    " • Converting the column 'date' = string into datetime object"
   ]
  },
  {
   "cell_type": "code",
   "execution_count": 337,
   "id": "53210dca",
   "metadata": {
    "execution": {
     "iopub.execute_input": "2021-08-04T14:23:53.369906Z",
     "iopub.status.busy": "2021-08-04T14:23:53.368947Z",
     "iopub.status.idle": "2021-08-04T14:23:53.373593Z",
     "shell.execute_reply": "2021-08-04T14:23:53.373002Z",
     "shell.execute_reply.started": "2021-08-04T14:23:07.135690Z"
    },
    "papermill": {
     "duration": 0.050359,
     "end_time": "2021-08-04T14:23:53.373754",
     "exception": false,
     "start_time": "2021-08-04T14:23:53.323395",
     "status": "completed"
    },
    "tags": []
   },
   "outputs": [
    {
     "data": {
      "text/plain": [
       "Index(['mid', 'date', 'venue', 'bat_team', 'bowl_team', 'batsman', 'bowler',\n",
       "       'runs', 'wickets', 'overs', 'runs_last_5', 'wickets_last_5', 'striker',\n",
       "       'non-striker', 'total'],\n",
       "      dtype='object')"
      ]
     },
     "execution_count": 337,
     "metadata": {},
     "output_type": "execute_result"
    }
   ],
   "source": [
    "DataFrame.columns"
   ]
  },
  {
   "cell_type": "code",
   "execution_count": 338,
   "id": "ad914d7c",
   "metadata": {
    "execution": {
     "iopub.execute_input": "2021-08-04T14:23:53.456936Z",
     "iopub.status.busy": "2021-08-04T14:23:53.455875Z",
     "iopub.status.idle": "2021-08-04T14:23:53.469594Z",
     "shell.execute_reply": "2021-08-04T14:23:53.470077Z",
     "shell.execute_reply.started": "2021-08-04T14:23:07.143343Z"
    },
    "papermill": {
     "duration": 0.057078,
     "end_time": "2021-08-04T14:23:53.470278",
     "exception": false,
     "start_time": "2021-08-04T14:23:53.413200",
     "status": "completed"
    },
    "tags": []
   },
   "outputs": [
    {
     "name": "stdout",
     "output_type": "stream",
     "text": [
      "Before removing unwanted columns: (76014, 15)\n",
      "After removing unwanted columns: (76014, 9)\n"
     ]
    }
   ],
   "source": [
    "# Removing unwanted columns\n",
    "columns_to_remove = ['mid', 'venue', 'batsman', 'bowler', 'striker', 'non-striker']\n",
    "\n",
    "print('Before removing unwanted columns: {}'.format(DataFrame.shape))\n",
    "DataFrame.drop(labels=columns_to_remove, axis=1, inplace=True)\n",
    "print('After removing unwanted columns: {}'.format(DataFrame.shape))"
   ]
  },
  {
   "cell_type": "code",
   "execution_count": 339,
   "id": "cdef22e5",
   "metadata": {
    "execution": {
     "iopub.execute_input": "2021-08-04T14:23:53.557218Z",
     "iopub.status.busy": "2021-08-04T14:23:53.556528Z",
     "iopub.status.idle": "2021-08-04T14:23:53.560834Z",
     "shell.execute_reply": "2021-08-04T14:23:53.561475Z",
     "shell.execute_reply.started": "2021-08-04T14:23:07.159158Z"
    },
    "papermill": {
     "duration": 0.051046,
     "end_time": "2021-08-04T14:23:53.561655",
     "exception": false,
     "start_time": "2021-08-04T14:23:53.510609",
     "status": "completed"
    },
    "tags": []
   },
   "outputs": [
    {
     "data": {
      "text/plain": [
       "Index(['date', 'bat_team', 'bowl_team', 'runs', 'wickets', 'overs',\n",
       "       'runs_last_5', 'wickets_last_5', 'total'],\n",
       "      dtype='object')"
      ]
     },
     "execution_count": 339,
     "metadata": {},
     "output_type": "execute_result"
    }
   ],
   "source": [
    "DataFrame.columns"
   ]
  },
  {
   "cell_type": "code",
   "execution_count": 343,
   "id": "98594e9d",
   "metadata": {
    "execution": {
     "iopub.execute_input": "2021-08-04T14:23:53.656063Z",
     "iopub.status.busy": "2021-08-04T14:23:53.655053Z",
     "iopub.status.idle": "2021-08-04T14:23:53.659165Z",
     "shell.execute_reply": "2021-08-04T14:23:53.659670Z",
     "shell.execute_reply.started": "2021-08-04T14:23:07.167654Z"
    },
    "papermill": {
     "duration": 0.058442,
     "end_time": "2021-08-04T14:23:53.659862",
     "exception": false,
     "start_time": "2021-08-04T14:23:53.601420",
     "status": "completed"
    },
    "tags": []
   },
   "outputs": [
    {
     "data": {
      "text/html": [
       "<div>\n",
       "<style scoped>\n",
       "    .dataframe tbody tr th:only-of-type {\n",
       "        vertical-align: middle;\n",
       "    }\n",
       "\n",
       "    .dataframe tbody tr th {\n",
       "        vertical-align: top;\n",
       "    }\n",
       "\n",
       "    .dataframe thead th {\n",
       "        text-align: right;\n",
       "    }\n",
       "</style>\n",
       "<table border=\"1\" class=\"dataframe\">\n",
       "  <thead>\n",
       "    <tr style=\"text-align: right;\">\n",
       "      <th></th>\n",
       "      <th>date</th>\n",
       "      <th>bat_team</th>\n",
       "      <th>bowl_team</th>\n",
       "      <th>runs</th>\n",
       "      <th>wickets</th>\n",
       "      <th>overs</th>\n",
       "      <th>runs_last_5</th>\n",
       "      <th>wickets_last_5</th>\n",
       "      <th>total</th>\n",
       "    </tr>\n",
       "  </thead>\n",
       "  <tbody>\n",
       "    <tr>\n",
       "      <th>0</th>\n",
       "      <td>2008-04-18</td>\n",
       "      <td>Kolkata Knight Riders</td>\n",
       "      <td>Royal Challengers Bangalore</td>\n",
       "      <td>1</td>\n",
       "      <td>0</td>\n",
       "      <td>0.1</td>\n",
       "      <td>1</td>\n",
       "      <td>0</td>\n",
       "      <td>222</td>\n",
       "    </tr>\n",
       "    <tr>\n",
       "      <th>1</th>\n",
       "      <td>2008-04-18</td>\n",
       "      <td>Kolkata Knight Riders</td>\n",
       "      <td>Royal Challengers Bangalore</td>\n",
       "      <td>1</td>\n",
       "      <td>0</td>\n",
       "      <td>0.2</td>\n",
       "      <td>1</td>\n",
       "      <td>0</td>\n",
       "      <td>222</td>\n",
       "    </tr>\n",
       "    <tr>\n",
       "      <th>2</th>\n",
       "      <td>2008-04-18</td>\n",
       "      <td>Kolkata Knight Riders</td>\n",
       "      <td>Royal Challengers Bangalore</td>\n",
       "      <td>2</td>\n",
       "      <td>0</td>\n",
       "      <td>0.2</td>\n",
       "      <td>2</td>\n",
       "      <td>0</td>\n",
       "      <td>222</td>\n",
       "    </tr>\n",
       "    <tr>\n",
       "      <th>3</th>\n",
       "      <td>2008-04-18</td>\n",
       "      <td>Kolkata Knight Riders</td>\n",
       "      <td>Royal Challengers Bangalore</td>\n",
       "      <td>2</td>\n",
       "      <td>0</td>\n",
       "      <td>0.3</td>\n",
       "      <td>2</td>\n",
       "      <td>0</td>\n",
       "      <td>222</td>\n",
       "    </tr>\n",
       "    <tr>\n",
       "      <th>4</th>\n",
       "      <td>2008-04-18</td>\n",
       "      <td>Kolkata Knight Riders</td>\n",
       "      <td>Royal Challengers Bangalore</td>\n",
       "      <td>2</td>\n",
       "      <td>0</td>\n",
       "      <td>0.4</td>\n",
       "      <td>2</td>\n",
       "      <td>0</td>\n",
       "      <td>222</td>\n",
       "    </tr>\n",
       "  </tbody>\n",
       "</table>\n",
       "</div>"
      ],
      "text/plain": [
       "         date               bat_team                    bowl_team  runs  \\\n",
       "0  2008-04-18  Kolkata Knight Riders  Royal Challengers Bangalore     1   \n",
       "1  2008-04-18  Kolkata Knight Riders  Royal Challengers Bangalore     1   \n",
       "2  2008-04-18  Kolkata Knight Riders  Royal Challengers Bangalore     2   \n",
       "3  2008-04-18  Kolkata Knight Riders  Royal Challengers Bangalore     2   \n",
       "4  2008-04-18  Kolkata Knight Riders  Royal Challengers Bangalore     2   \n",
       "\n",
       "   wickets  overs  runs_last_5  wickets_last_5  total  \n",
       "0        0    0.1            1               0    222  \n",
       "1        0    0.2            1               0    222  \n",
       "2        0    0.2            2               0    222  \n",
       "3        0    0.3            2               0    222  \n",
       "4        0    0.4            2               0    222  "
      ]
     },
     "execution_count": 343,
     "metadata": {},
     "output_type": "execute_result"
    }
   ],
   "source": [
    "DataFrame.head()"
   ]
  },
  {
   "cell_type": "code",
   "execution_count": 344,
   "id": "ac89c969",
   "metadata": {
    "execution": {
     "iopub.execute_input": "2021-08-04T14:23:53.753515Z",
     "iopub.status.busy": "2021-08-04T14:23:53.752308Z",
     "iopub.status.idle": "2021-08-04T14:23:53.765365Z",
     "shell.execute_reply": "2021-08-04T14:23:53.764773Z",
     "shell.execute_reply.started": "2021-08-04T14:23:07.189423Z"
    },
    "papermill": {
     "duration": 0.06271,
     "end_time": "2021-08-04T14:23:53.765523",
     "exception": false,
     "start_time": "2021-08-04T14:23:53.702813",
     "status": "completed"
    },
    "tags": []
   },
   "outputs": [
    {
     "data": {
      "text/plain": [
       "array(['Kolkata Knight Riders', 'Chennai Super Kings', 'Rajasthan Royals',\n",
       "       'Mumbai Indians', 'Deccan Chargers', 'Kings XI Punjab',\n",
       "       'Royal Challengers Bangalore', 'Delhi Daredevils',\n",
       "       'Kochi Tuskers Kerala', 'Pune Warriors', 'Sunrisers Hyderabad',\n",
       "       'Rising Pune Supergiants', 'Gujarat Lions',\n",
       "       'Rising Pune Supergiant'], dtype=object)"
      ]
     },
     "execution_count": 344,
     "metadata": {},
     "output_type": "execute_result"
    }
   ],
   "source": [
    "DataFrame['bat_team'].unique()"
   ]
  },
  {
   "cell_type": "code",
   "execution_count": 345,
   "id": "7658e29d",
   "metadata": {
    "execution": {
     "iopub.execute_input": "2021-08-04T14:23:53.853960Z",
     "iopub.status.busy": "2021-08-04T14:23:53.853173Z",
     "iopub.status.idle": "2021-08-04T14:23:53.855922Z",
     "shell.execute_reply": "2021-08-04T14:23:53.856457Z",
     "shell.execute_reply.started": "2021-08-04T14:23:07.209583Z"
    },
    "papermill": {
     "duration": 0.049344,
     "end_time": "2021-08-04T14:23:53.856633",
     "exception": false,
     "start_time": "2021-08-04T14:23:53.807289",
     "status": "completed"
    },
    "tags": []
   },
   "outputs": [],
   "source": [
    "consistent_teams = ['Kolkata Knight Riders', 'Chennai Super Kings', 'Rajasthan Royals',\n",
    "                    'Mumbai Indians', 'Kings XI Punjab', 'Royal Challengers Bangalore',\n",
    "                    'Delhi Daredevils', 'Sunrisers Hyderabad']"
   ]
  },
  {
   "cell_type": "code",
   "execution_count": 346,
   "id": "6a78e498",
   "metadata": {
    "execution": {
     "iopub.execute_input": "2021-08-04T14:23:53.944307Z",
     "iopub.status.busy": "2021-08-04T14:23:53.943252Z",
     "iopub.status.idle": "2021-08-04T14:23:53.967979Z",
     "shell.execute_reply": "2021-08-04T14:23:53.967174Z",
     "shell.execute_reply.started": "2021-08-04T14:23:07.216021Z"
    },
    "papermill": {
     "duration": 0.06999,
     "end_time": "2021-08-04T14:23:53.968155",
     "exception": false,
     "start_time": "2021-08-04T14:23:53.898165",
     "status": "completed"
    },
    "tags": []
   },
   "outputs": [
    {
     "name": "stdout",
     "output_type": "stream",
     "text": [
      "Before removing inconsistent teams: (76014, 9)\n",
      "After removing inconsistent teams: (53811, 9)\n"
     ]
    }
   ],
   "source": [
    "# Keeping only consistent teams\n",
    "print('Before removing inconsistent teams: {}'.format(DataFrame.shape))\n",
    "DataFrame = DataFrame[(DataFrame['bat_team'].isin(consistent_teams)) & (DataFrame['bowl_team'].isin(consistent_teams))]\n",
    "print('After removing inconsistent teams: {}'.format(DataFrame.shape))"
   ]
  },
  {
   "cell_type": "code",
   "execution_count": 347,
   "id": "6e6c04be",
   "metadata": {
    "execution": {
     "iopub.execute_input": "2021-08-04T14:23:54.063018Z",
     "iopub.status.busy": "2021-08-04T14:23:54.062308Z",
     "iopub.status.idle": "2021-08-04T14:23:54.071245Z",
     "shell.execute_reply": "2021-08-04T14:23:54.071724Z",
     "shell.execute_reply.started": "2021-08-04T14:23:07.243361Z"
    },
    "papermill": {
     "duration": 0.059366,
     "end_time": "2021-08-04T14:23:54.071918",
     "exception": false,
     "start_time": "2021-08-04T14:23:54.012552",
     "status": "completed"
    },
    "tags": []
   },
   "outputs": [
    {
     "data": {
      "text/plain": [
       "array(['Kolkata Knight Riders', 'Chennai Super Kings', 'Rajasthan Royals',\n",
       "       'Mumbai Indians', 'Kings XI Punjab', 'Royal Challengers Bangalore',\n",
       "       'Delhi Daredevils', 'Sunrisers Hyderabad'], dtype=object)"
      ]
     },
     "execution_count": 347,
     "metadata": {},
     "output_type": "execute_result"
    }
   ],
   "source": [
    "DataFrame['bat_team'].unique()"
   ]
  },
  {
   "cell_type": "code",
   "execution_count": 348,
   "id": "95fa6b4f",
   "metadata": {
    "execution": {
     "iopub.execute_input": "2021-08-04T14:23:54.167637Z",
     "iopub.status.busy": "2021-08-04T14:23:54.166950Z",
     "iopub.status.idle": "2021-08-04T14:23:54.192510Z",
     "shell.execute_reply": "2021-08-04T14:23:54.191960Z",
     "shell.execute_reply.started": "2021-08-04T14:23:07.255296Z"
    },
    "papermill": {
     "duration": 0.075931,
     "end_time": "2021-08-04T14:23:54.192659",
     "exception": false,
     "start_time": "2021-08-04T14:23:54.116728",
     "status": "completed"
    },
    "tags": []
   },
   "outputs": [
    {
     "name": "stdout",
     "output_type": "stream",
     "text": [
      "Before removing first 5 overs data: (53811, 9)\n",
      "After removing first 5 overs data: (40108, 9)\n"
     ]
    }
   ],
   "source": [
    "# Removing the first 5 overs data in every match\n",
    "print('Before removing first 5 overs data: {}'.format(DataFrame.shape))\n",
    "DataFrame = DataFrame[DataFrame['overs']>=5.0]\n",
    "print('After removing first 5 overs data: {}'.format(DataFrame.shape))"
   ]
  },
  {
   "cell_type": "code",
   "execution_count": 349,
   "id": "2c30e98e",
   "metadata": {
    "execution": {
     "iopub.execute_input": "2021-08-04T14:23:54.284248Z",
     "iopub.status.busy": "2021-08-04T14:23:54.283151Z",
     "iopub.status.idle": "2021-08-04T14:23:54.790976Z",
     "shell.execute_reply": "2021-08-04T14:23:54.790430Z",
     "shell.execute_reply.started": "2021-08-04T14:23:07.273314Z"
    },
    "papermill": {
     "duration": 0.554424,
     "end_time": "2021-08-04T14:23:54.791231",
     "exception": false,
     "start_time": "2021-08-04T14:23:54.236807",
     "status": "completed"
    },
    "tags": []
   },
   "outputs": [
    {
     "name": "stdout",
     "output_type": "stream",
     "text": [
      "Before converting 'date' column from string to datetime object: <class 'str'>\n",
      "After converting 'date' column from string to datetime object: <class 'pandas._libs.tslibs.timestamps.Timestamp'>\n"
     ]
    }
   ],
   "source": [
    "# Converting the column 'date' from string into datetime object\n",
    "from datetime import datetime\n",
    "print(\"Before converting 'date' column from string to datetime object: {}\".format(type(DataFrame.iloc[0,0])))\n",
    "DataFrame['date'] = DataFrame['date'].apply(lambda x: datetime.strptime(x, '%Y-%m-%d'))\n",
    "print(\"After converting 'date' column from string to datetime object: {}\".format(type(DataFrame.iloc[0,0])))"
   ]
  },
  {
   "cell_type": "code",
   "execution_count": 350,
   "id": "46eff224",
   "metadata": {
    "execution": {
     "iopub.execute_input": "2021-08-04T14:23:54.883712Z",
     "iopub.status.busy": "2021-08-04T14:23:54.882983Z",
     "iopub.status.idle": "2021-08-04T14:23:56.399356Z",
     "shell.execute_reply": "2021-08-04T14:23:56.398738Z",
     "shell.execute_reply.started": "2021-08-04T14:23:07.792104Z"
    },
    "papermill": {
     "duration": 1.564675,
     "end_time": "2021-08-04T14:23:56.399525",
     "exception": false,
     "start_time": "2021-08-04T14:23:54.834850",
     "status": "completed"
    },
    "tags": []
   },
   "outputs": [
    {
     "data": {
      "image/png": "[encoded data removed]",
      "text/plain": [
       "<Figure size 720x720 with 2 Axes>"
      ]
     },
     "metadata": {
      "needs_background": "light"
     },
     "output_type": "display_data"
    }
   ],
   "source": [
    "# Selecting correlated features using Heatmap\n",
    "import matplotlib.pyplot as plt\n",
    "import seaborn as sns\n",
    "\n",
    "# Get correlation of all the features of the dataset\n",
    "corr_matrix = DataFrame.corr()\n",
    "top_corr_features = corr_matrix.index\n",
    "\n",
    "# Plotting the heatmap\n",
    "plt.figure(figsize=(10,10))\n",
    "g = sns.heatmap(data=DataFrame[top_corr_features].corr(), annot=True, cmap='coolwarm')"
   ]
  },
  {
   "cell_type": "markdown",
   "id": "b804329c",
   "metadata": {
    "execution": {
     "iopub.execute_input": "2021-08-03T16:34:53.748515Z",
     "iopub.status.busy": "2021-08-03T16:34:53.748045Z",
     "iopub.status.idle": "2021-08-03T16:34:53.75417Z",
     "shell.execute_reply": "2021-08-03T16:34:53.752622Z",
     "shell.execute_reply.started": "2021-08-03T16:34:53.748457Z"
    },
    "papermill": {
     "duration": 0.046544,
     "end_time": "2021-08-04T14:23:56.491793",
     "exception": false,
     "start_time": "2021-08-04T14:23:56.445249",
     "status": "completed"
    },
    "tags": []
   },
   "source": [
    "# Data Preprocessing\n",
    "• Handling categorical features </br>\n",
    "• Splitting dataset into train and test set on the basis of date"
   ]
  },
  {
   "cell_type": "code",
   "execution_count": 351,
   "id": "fa7973fe",
   "metadata": {
    "execution": {
     "iopub.execute_input": "2021-08-04T14:23:56.591864Z",
     "iopub.status.busy": "2021-08-04T14:23:56.589710Z",
     "iopub.status.idle": "2021-08-04T14:23:56.611386Z",
     "shell.execute_reply": "2021-08-04T14:23:56.611921Z",
     "shell.execute_reply.started": "2021-08-04T14:23:08.278083Z"
    },
    "papermill": {
     "duration": 0.07617,
     "end_time": "2021-08-04T14:23:56.612125",
     "exception": false,
     "start_time": "2021-08-04T14:23:56.535955",
     "status": "completed"
    },
    "tags": []
   },
   "outputs": [
    {
     "data": {
      "text/plain": [
       "Index(['date', 'runs', 'wickets', 'overs', 'runs_last_5', 'wickets_last_5',\n",
       "       'total', 'bat_team_Chennai Super Kings', 'bat_team_Delhi Daredevils',\n",
       "       'bat_team_Kings XI Punjab', 'bat_team_Kolkata Knight Riders',\n",
       "       'bat_team_Mumbai Indians', 'bat_team_Rajasthan Royals',\n",
       "       'bat_team_Royal Challengers Bangalore', 'bat_team_Sunrisers Hyderabad',\n",
       "       'bowl_team_Chennai Super Kings', 'bowl_team_Delhi Daredevils',\n",
       "       'bowl_team_Kings XI Punjab', 'bowl_team_Kolkata Knight Riders',\n",
       "       'bowl_team_Mumbai Indians', 'bowl_team_Rajasthan Royals',\n",
       "       'bowl_team_Royal Challengers Bangalore',\n",
       "       'bowl_team_Sunrisers Hyderabad'],\n",
       "      dtype='object')"
      ]
     },
     "execution_count": 351,
     "metadata": {},
     "output_type": "execute_result"
    }
   ],
   "source": [
    "#Converting categorical features using OneHotEncoding method\n",
    "encoded_DataFrame = pd.get_dummies(data=DataFrame, columns=['bat_team', 'bowl_team'])\n",
    "encoded_DataFrame.columns"
   ]
  },
  {
   "cell_type": "code",
   "execution_count": 352,
   "id": "e74839c3",
   "metadata": {
    "execution": {
     "iopub.execute_input": "2021-08-04T14:23:56.704322Z",
     "iopub.status.busy": "2021-08-04T14:23:56.703642Z",
     "iopub.status.idle": "2021-08-04T14:23:56.729430Z",
     "shell.execute_reply": "2021-08-04T14:23:56.729994Z",
     "shell.execute_reply.started": "2021-08-04T14:23:08.306234Z"
    },
    "papermill": {
     "duration": 0.073602,
     "end_time": "2021-08-04T14:23:56.730188",
     "exception": false,
     "start_time": "2021-08-04T14:23:56.656586",
     "status": "completed"
    },
    "tags": []
   },
   "outputs": [
    {
     "data": {
      "text/html": [
       "<div>\n",
       "<style scoped>\n",
       "    .dataframe tbody tr th:only-of-type {\n",
       "        vertical-align: middle;\n",
       "    }\n",
       "\n",
       "    .dataframe tbody tr th {\n",
       "        vertical-align: top;\n",
       "    }\n",
       "\n",
       "    .dataframe thead th {\n",
       "        text-align: right;\n",
       "    }\n",
       "</style>\n",
       "<table border=\"1\" class=\"dataframe\">\n",
       "  <thead>\n",
       "    <tr style=\"text-align: right;\">\n",
       "      <th></th>\n",
       "      <th>date</th>\n",
       "      <th>runs</th>\n",
       "      <th>wickets</th>\n",
       "      <th>overs</th>\n",
       "      <th>runs_last_5</th>\n",
       "      <th>wickets_last_5</th>\n",
       "      <th>total</th>\n",
       "      <th>bat_team_Chennai Super Kings</th>\n",
       "      <th>bat_team_Delhi Daredevils</th>\n",
       "      <th>bat_team_Kings XI Punjab</th>\n",
       "      <th>...</th>\n",
       "      <th>bat_team_Royal Challengers Bangalore</th>\n",
       "      <th>bat_team_Sunrisers Hyderabad</th>\n",
       "      <th>bowl_team_Chennai Super Kings</th>\n",
       "      <th>bowl_team_Delhi Daredevils</th>\n",
       "      <th>bowl_team_Kings XI Punjab</th>\n",
       "      <th>bowl_team_Kolkata Knight Riders</th>\n",
       "      <th>bowl_team_Mumbai Indians</th>\n",
       "      <th>bowl_team_Rajasthan Royals</th>\n",
       "      <th>bowl_team_Royal Challengers Bangalore</th>\n",
       "      <th>bowl_team_Sunrisers Hyderabad</th>\n",
       "    </tr>\n",
       "  </thead>\n",
       "  <tbody>\n",
       "    <tr>\n",
       "      <th>32</th>\n",
       "      <td>2008-04-18</td>\n",
       "      <td>61</td>\n",
       "      <td>0</td>\n",
       "      <td>5.1</td>\n",
       "      <td>59</td>\n",
       "      <td>0</td>\n",
       "      <td>222</td>\n",
       "      <td>0</td>\n",
       "      <td>0</td>\n",
       "      <td>0</td>\n",
       "      <td>...</td>\n",
       "      <td>0</td>\n",
       "      <td>0</td>\n",
       "      <td>0</td>\n",
       "      <td>0</td>\n",
       "      <td>0</td>\n",
       "      <td>0</td>\n",
       "      <td>0</td>\n",
       "      <td>0</td>\n",
       "      <td>1</td>\n",
       "      <td>0</td>\n",
       "    </tr>\n",
       "    <tr>\n",
       "      <th>33</th>\n",
       "      <td>2008-04-18</td>\n",
       "      <td>61</td>\n",
       "      <td>1</td>\n",
       "      <td>5.2</td>\n",
       "      <td>59</td>\n",
       "      <td>1</td>\n",
       "      <td>222</td>\n",
       "      <td>0</td>\n",
       "      <td>0</td>\n",
       "      <td>0</td>\n",
       "      <td>...</td>\n",
       "      <td>0</td>\n",
       "      <td>0</td>\n",
       "      <td>0</td>\n",
       "      <td>0</td>\n",
       "      <td>0</td>\n",
       "      <td>0</td>\n",
       "      <td>0</td>\n",
       "      <td>0</td>\n",
       "      <td>1</td>\n",
       "      <td>0</td>\n",
       "    </tr>\n",
       "    <tr>\n",
       "      <th>34</th>\n",
       "      <td>2008-04-18</td>\n",
       "      <td>61</td>\n",
       "      <td>1</td>\n",
       "      <td>5.3</td>\n",
       "      <td>59</td>\n",
       "      <td>1</td>\n",
       "      <td>222</td>\n",
       "      <td>0</td>\n",
       "      <td>0</td>\n",
       "      <td>0</td>\n",
       "      <td>...</td>\n",
       "      <td>0</td>\n",
       "      <td>0</td>\n",
       "      <td>0</td>\n",
       "      <td>0</td>\n",
       "      <td>0</td>\n",
       "      <td>0</td>\n",
       "      <td>0</td>\n",
       "      <td>0</td>\n",
       "      <td>1</td>\n",
       "      <td>0</td>\n",
       "    </tr>\n",
       "    <tr>\n",
       "      <th>35</th>\n",
       "      <td>2008-04-18</td>\n",
       "      <td>61</td>\n",
       "      <td>1</td>\n",
       "      <td>5.4</td>\n",
       "      <td>59</td>\n",
       "      <td>1</td>\n",
       "      <td>222</td>\n",
       "      <td>0</td>\n",
       "      <td>0</td>\n",
       "      <td>0</td>\n",
       "      <td>...</td>\n",
       "      <td>0</td>\n",
       "      <td>0</td>\n",
       "      <td>0</td>\n",
       "      <td>0</td>\n",
       "      <td>0</td>\n",
       "      <td>0</td>\n",
       "      <td>0</td>\n",
       "      <td>0</td>\n",
       "      <td>1</td>\n",
       "      <td>0</td>\n",
       "    </tr>\n",
       "    <tr>\n",
       "      <th>36</th>\n",
       "      <td>2008-04-18</td>\n",
       "      <td>61</td>\n",
       "      <td>1</td>\n",
       "      <td>5.5</td>\n",
       "      <td>58</td>\n",
       "      <td>1</td>\n",
       "      <td>222</td>\n",
       "      <td>0</td>\n",
       "      <td>0</td>\n",
       "      <td>0</td>\n",
       "      <td>...</td>\n",
       "      <td>0</td>\n",
       "      <td>0</td>\n",
       "      <td>0</td>\n",
       "      <td>0</td>\n",
       "      <td>0</td>\n",
       "      <td>0</td>\n",
       "      <td>0</td>\n",
       "      <td>0</td>\n",
       "      <td>1</td>\n",
       "      <td>0</td>\n",
       "    </tr>\n",
       "  </tbody>\n",
       "</table>\n",
       "<p>5 rows × 23 columns</p>\n",
       "</div>"
      ],
      "text/plain": [
       "         date  runs  wickets  overs  runs_last_5  wickets_last_5  total  \\\n",
       "32 2008-04-18    61        0    5.1           59               0    222   \n",
       "33 2008-04-18    61        1    5.2           59               1    222   \n",
       "34 2008-04-18    61        1    5.3           59               1    222   \n",
       "35 2008-04-18    61        1    5.4           59               1    222   \n",
       "36 2008-04-18    61        1    5.5           58               1    222   \n",
       "\n",
       "    bat_team_Chennai Super Kings  bat_team_Delhi Daredevils  \\\n",
       "32                             0                          0   \n",
       "33                             0                          0   \n",
       "34                             0                          0   \n",
       "35                             0                          0   \n",
       "36                             0                          0   \n",
       "\n",
       "    bat_team_Kings XI Punjab  ...  bat_team_Royal Challengers Bangalore  \\\n",
       "32                         0  ...                                     0   \n",
       "33                         0  ...                                     0   \n",
       "34                         0  ...                                     0   \n",
       "35                         0  ...                                     0   \n",
       "36                         0  ...                                     0   \n",
       "\n",
       "    bat_team_Sunrisers Hyderabad  bowl_team_Chennai Super Kings  \\\n",
       "32                             0                              0   \n",
       "33                             0                              0   \n",
       "34                             0                              0   \n",
       "35                             0                              0   \n",
       "36                             0                              0   \n",
       "\n",
       "    bowl_team_Delhi Daredevils  bowl_team_Kings XI Punjab  \\\n",
       "32                           0                          0   \n",
       "33                           0                          0   \n",
       "34                           0                          0   \n",
       "35                           0                          0   \n",
       "36                           0                          0   \n",
       "\n",
       "    bowl_team_Kolkata Knight Riders  bowl_team_Mumbai Indians  \\\n",
       "32                                0                         0   \n",
       "33                                0                         0   \n",
       "34                                0                         0   \n",
       "35                                0                         0   \n",
       "36                                0                         0   \n",
       "\n",
       "    bowl_team_Rajasthan Royals  bowl_team_Royal Challengers Bangalore  \\\n",
       "32                           0                                      1   \n",
       "33                           0                                      1   \n",
       "34                           0                                      1   \n",
       "35                           0                                      1   \n",
       "36                           0                                      1   \n",
       "\n",
       "    bowl_team_Sunrisers Hyderabad  \n",
       "32                              0  \n",
       "33                              0  \n",
       "34                              0  \n",
       "35                              0  \n",
       "36                              0  \n",
       "\n",
       "[5 rows x 23 columns]"
      ]
     },
     "execution_count": 352,
     "metadata": {},
     "output_type": "execute_result"
    }
   ],
   "source": [
    "encoded_DataFrame.head()"
   ]
  },
  {
   "cell_type": "code",
   "execution_count": 353,
   "id": "a559f7aa",
   "metadata": {
    "execution": {
     "iopub.execute_input": "2021-08-04T14:23:56.825714Z",
     "iopub.status.busy": "2021-08-04T14:23:56.825018Z",
     "iopub.status.idle": "2021-08-04T14:23:56.835250Z",
     "shell.execute_reply": "2021-08-04T14:23:56.835806Z",
     "shell.execute_reply.started": "2021-08-04T14:23:08.335840Z"
    },
    "papermill": {
     "duration": 0.059514,
     "end_time": "2021-08-04T14:23:56.835981",
     "exception": false,
     "start_time": "2021-08-04T14:23:56.776467",
     "status": "completed"
    },
    "tags": []
   },
   "outputs": [],
   "source": [
    "# Rearranging the columns\n",
    "encoded_DataFrame = encoded_DataFrame[['date', 'bat_team_Chennai Super Kings', 'bat_team_Delhi Daredevils', 'bat_team_Kings XI Punjab',\n",
    "              'bat_team_Kolkata Knight Riders', 'bat_team_Mumbai Indians', 'bat_team_Rajasthan Royals',\n",
    "              'bat_team_Royal Challengers Bangalore', 'bat_team_Sunrisers Hyderabad',\n",
    "              'bowl_team_Chennai Super Kings', 'bowl_team_Delhi Daredevils', 'bowl_team_Kings XI Punjab',\n",
    "              'bowl_team_Kolkata Knight Riders', 'bowl_team_Mumbai Indians', 'bowl_team_Rajasthan Royals',\n",
    "              'bowl_team_Royal Challengers Bangalore', 'bowl_team_Sunrisers Hyderabad',\n",
    "              'overs', 'runs', 'wickets', 'runs_last_5', 'wickets_last_5', 'total']]"
   ]
  },
  {
   "cell_type": "code",
   "execution_count": 354,
   "id": "c82576e7",
   "metadata": {
    "execution": {
     "iopub.execute_input": "2021-08-04T14:23:56.930243Z",
     "iopub.status.busy": "2021-08-04T14:23:56.929361Z",
     "iopub.status.idle": "2021-08-04T14:23:56.983858Z",
     "shell.execute_reply": "2021-08-04T14:23:56.983282Z",
     "shell.execute_reply.started": "2021-08-04T14:23:08.348404Z"
    },
    "papermill": {
     "duration": 0.102757,
     "end_time": "2021-08-04T14:23:56.984002",
     "exception": false,
     "start_time": "2021-08-04T14:23:56.881245",
     "status": "completed"
    },
    "tags": []
   },
   "outputs": [
    {
     "name": "stdout",
     "output_type": "stream",
     "text": [
      "Training set: (37330, 21) and Test set: (2778, 21)\n"
     ]
    }
   ],
   "source": [
    "# Splitting the data into train and test set\n",
    "X_train = encoded_DataFrame.drop(labels='total', axis=1)[encoded_DataFrame['date'].dt.year <= 2016]\n",
    "X_test = encoded_DataFrame.drop(labels='total', axis=1)[encoded_DataFrame['date'].dt.year >= 2017]\n",
    "\n",
    "y_train = encoded_DataFrame[encoded_DataFrame['date'].dt.year <= 2016]['total'].values\n",
    "y_test = encoded_DataFrame[encoded_DataFrame['date'].dt.year >= 2017]['total'].values\n",
    "\n",
    "# Removing the 'date' column\n",
    "X_train.drop(labels='date', axis=True, inplace=True)\n",
    "X_test.drop(labels='date', axis=True, inplace=True)\n",
    "\n",
    "print(\"Training set: {} and Test set: {}\".format(X_train.shape, X_test.shape))"
   ]
  },
  {
   "cell_type": "markdown",
   "id": "9babf613",
   "metadata": {
    "execution": {
     "iopub.execute_input": "2021-08-03T16:36:34.431208Z",
     "iopub.status.busy": "2021-08-03T16:36:34.430524Z",
     "iopub.status.idle": "2021-08-03T16:36:34.435856Z",
     "shell.execute_reply": "2021-08-03T16:36:34.43453Z",
     "shell.execute_reply.started": "2021-08-03T16:36:34.43114Z"
    },
    "papermill": {
     "duration": 0.045754,
     "end_time": "2021-08-04T14:23:57.077573",
     "exception": false,
     "start_time": "2021-08-04T14:23:57.031819",
     "status": "completed"
    },
    "tags": []
   },
   "source": [
    "# Model Building\n",
    "I will experiment with 5 different algorithms, they are as follows:</br>\n",
    "• Linear Regression,\n",
    "• Decision Tree Regression,\n",
    "• Random Forest Regression ,\n",
    "•Ridge Regression \n",
    "</br>\n",
    "• Adaptive Boosting (AdaBoost) Algorithm </br>\n"
   ]
  },
  {
   "cell_type": "markdown",
   "id": "832c0020",
   "metadata": {
    "papermill": {
     "duration": 0.04556,
     "end_time": "2021-08-04T14:23:57.169516",
     "exception": false,
     "start_time": "2021-08-04T14:23:57.123956",
     "status": "completed"
    },
    "tags": []
   },
   "source": [
    "# *Linear Regression*"
   ]
  },
  {
   "cell_type": "code",
   "execution_count": 355,
   "id": "35d91a06",
   "metadata": {
    "execution": {
     "iopub.execute_input": "2021-08-04T14:23:57.264514Z",
     "iopub.status.busy": "2021-08-04T14:23:57.263654Z",
     "iopub.status.idle": "2021-08-04T14:23:57.779784Z",
     "shell.execute_reply": "2021-08-04T14:23:57.780328Z",
     "shell.execute_reply.started": "2021-08-04T14:23:08.397391Z"
    },
    "papermill": {
     "duration": 0.564945,
     "end_time": "2021-08-04T14:23:57.780506",
     "exception": false,
     "start_time": "2021-08-04T14:23:57.215561",
     "status": "completed"
    },
    "tags": []
   },
   "outputs": [
    {
     "data": {
      "text/plain": [
       "LinearRegression()"
      ]
     },
     "execution_count": 355,
     "metadata": {},
     "output_type": "execute_result"
    }
   ],
   "source": [
    "# Linear Regression Model\n",
    "from sklearn.linear_model import LinearRegression\n",
    "linear_regressor = LinearRegression()\n",
    "linear_regressor.fit(X_train,y_train)"
   ]
  },
  {
   "cell_type": "code",
   "execution_count": 356,
   "id": "43a27a99",
   "metadata": {
    "execution": {
     "iopub.execute_input": "2021-08-04T14:23:57.876471Z",
     "iopub.status.busy": "2021-08-04T14:23:57.875444Z",
     "iopub.status.idle": "2021-08-04T14:23:57.891842Z",
     "shell.execute_reply": "2021-08-04T14:23:57.892840Z",
     "shell.execute_reply.started": "2021-08-04T14:23:08.439067Z"
    },
    "papermill": {
     "duration": 0.06627,
     "end_time": "2021-08-04T14:23:57.893143",
     "exception": false,
     "start_time": "2021-08-04T14:23:57.826873",
     "status": "completed"
    },
    "tags": []
   },
   "outputs": [],
   "source": [
    "# Predicting results\n",
    "y_pred_lr = linear_regressor.predict(X_test)"
   ]
  },
  {
   "cell_type": "code",
   "execution_count": 357,
   "id": "41d19fb0",
   "metadata": {},
   "outputs": [
    {
     "data": {
      "text/plain": [
       "0.7522633566350525"
      ]
     },
     "execution_count": 357,
     "metadata": {},
     "output_type": "execute_result"
    }
   ],
   "source": [
    "# Random Forest Regression Model\n",
    "from sklearn.ensemble import RandomForestClassifier\n",
    "linear_regressor.score(X_test,y_test)"
   ]
  },
  {
   "cell_type": "code",
   "execution_count": 358,
   "id": "09f1b85c",
   "metadata": {
    "execution": {
     "iopub.execute_input": "2021-08-04T14:23:58.041696Z",
     "iopub.status.busy": "2021-08-04T14:23:58.040630Z",
     "iopub.status.idle": "2021-08-04T14:23:58.045024Z",
     "shell.execute_reply": "2021-08-04T14:23:58.045540Z",
     "shell.execute_reply.started": "2021-08-04T14:23:08.455781Z"
    },
    "papermill": {
     "duration": 0.06951,
     "end_time": "2021-08-04T14:23:58.045728",
     "exception": false,
     "start_time": "2021-08-04T14:23:57.976218",
     "status": "completed"
    },
    "tags": []
   },
   "outputs": [
    {
     "name": "stdout",
     "output_type": "stream",
     "text": [
      "---- Linear Regression - Model Evaluation ----\n",
      "Mean Absolute Error (MAE): 12.118617546193295\n",
      "Mean Squared Error (MSE): 251.00792310417455\n",
      "Root Mean Squared Error (RMSE): 15.843229566732111\n"
     ]
    }
   ],
   "source": [
    "# Linear Regression - Model Evaluation\n",
    "from sklearn.metrics import mean_absolute_error as mae, mean_squared_error as mse, accuracy_score\n",
    "print(\"---- Linear Regression - Model Evaluation ----\")\n",
    "print(\"Mean Absolute Error (MAE): {}\".format(mae(y_test, y_pred_lr)))\n",
    "print(\"Mean Squared Error (MSE): {}\".format(mse(y_test, y_pred_lr)))\n",
    "print(\"Root Mean Squared Error (RMSE): {}\".format(np.sqrt(mse(y_test, y_pred_lr))))"
   ]
  },
  {
   "cell_type": "markdown",
   "id": "2324310e",
   "metadata": {
    "papermill": {
     "duration": 0.047091,
     "end_time": "2021-08-04T14:23:58.139570",
     "exception": false,
     "start_time": "2021-08-04T14:23:58.092479",
     "status": "completed"
    },
    "tags": []
   },
   "source": [
    "# *Decision Tree*"
   ]
  },
  {
   "cell_type": "code",
   "execution_count": 359,
   "id": "894dd58b",
   "metadata": {
    "execution": {
     "iopub.execute_input": "2021-08-04T14:23:58.238967Z",
     "iopub.status.busy": "2021-08-04T14:23:58.238124Z",
     "iopub.status.idle": "2021-08-04T14:23:58.540791Z",
     "shell.execute_reply": "2021-08-04T14:23:58.540064Z",
     "shell.execute_reply.started": "2021-08-04T14:23:08.472595Z"
    },
    "papermill": {
     "duration": 0.35359,
     "end_time": "2021-08-04T14:23:58.540941",
     "exception": false,
     "start_time": "2021-08-04T14:23:58.187351",
     "status": "completed"
    },
    "tags": []
   },
   "outputs": [
    {
     "data": {
      "text/plain": [
       "DecisionTreeRegressor()"
      ]
     },
     "execution_count": 359,
     "metadata": {},
     "output_type": "execute_result"
    }
   ],
   "source": [
    "# Decision Tree Regression Model\n",
    "from sklearn.tree import DecisionTreeRegressor\n",
    "\n",
    "from sklearn import metrics #Import scikit-learn metrics module for accuracy calculation\n",
    "decision_regressor = DecisionTreeRegressor()\n",
    "decision_regressor.fit(X_train,y_train)"
   ]
  },
  {
   "cell_type": "code",
   "execution_count": 360,
   "id": "e2739d48",
   "metadata": {
    "execution": {
     "iopub.execute_input": "2021-08-04T14:23:58.644767Z",
     "iopub.status.busy": "2021-08-04T14:23:58.643786Z",
     "iopub.status.idle": "2021-08-04T14:23:58.648607Z",
     "shell.execute_reply": "2021-08-04T14:23:58.647920Z",
     "shell.execute_reply.started": "2021-08-04T14:23:08.692582Z"
    },
    "papermill": {
     "duration": 0.059502,
     "end_time": "2021-08-04T14:23:58.648752",
     "exception": false,
     "start_time": "2021-08-04T14:23:58.589250",
     "status": "completed"
    },
    "tags": []
   },
   "outputs": [],
   "source": [
    "# Predicting results\n",
    "y_pred_dt = decision_regressor.predict(X_test)"
   ]
  },
  {
   "cell_type": "code",
   "execution_count": 361,
   "id": "f40df2eb",
   "metadata": {},
   "outputs": [
    {
     "name": "stdout",
     "output_type": "stream",
     "text": [
      "Accuracy: 0.0251979841612671\n"
     ]
    }
   ],
   "source": [
    "print(\"Accuracy:\",metrics.accuracy_score(y_test, y_pred_dt))"
   ]
  },
  {
   "cell_type": "code",
   "execution_count": 362,
   "id": "243bf3a3",
   "metadata": {},
   "outputs": [
    {
     "data": {
      "text/plain": [
       "0.47348201204132656"
      ]
     },
     "execution_count": 362,
     "metadata": {},
     "output_type": "execute_result"
    }
   ],
   "source": [
    "# Random Forest Regression Model\n",
    "from sklearn.ensemble import RandomForestClassifier\n",
    "decision_regressor.score(X_test,y_test)"
   ]
  },
  {
   "cell_type": "code",
   "execution_count": 363,
   "id": "af952597",
   "metadata": {
    "execution": {
     "iopub.execute_input": "2021-08-04T14:23:58.749449Z",
     "iopub.status.busy": "2021-08-04T14:23:58.748351Z",
     "iopub.status.idle": "2021-08-04T14:23:58.754048Z",
     "shell.execute_reply": "2021-08-04T14:23:58.753517Z",
     "shell.execute_reply.started": "2021-08-04T14:23:08.702059Z"
    },
    "papermill": {
     "duration": 0.058727,
     "end_time": "2021-08-04T14:23:58.754221",
     "exception": false,
     "start_time": "2021-08-04T14:23:58.695494",
     "status": "completed"
    },
    "tags": []
   },
   "outputs": [
    {
     "name": "stdout",
     "output_type": "stream",
     "text": [
      "---- Decision Tree Regression - Model Evaluation ----\n",
      "Mean Absolute Error (MAE): 17.037077033837292\n",
      "Mean Squared Error (MSE): 533.4704823614111\n",
      "Root Mean Squared Error (RMSE): 23.096979940273815\n"
     ]
    }
   ],
   "source": [
    "# Decision Tree Regression - Model Evaluation\n",
    "print(\"---- Decision Tree Regression - Model Evaluation ----\")\n",
    "print(\"Mean Absolute Error (MAE): {}\".format(mae(y_test, y_pred_dt)))\n",
    "print(\"Mean Squared Error (MSE): {}\".format(mse(y_test, y_pred_dt)))\n",
    "print(\"Root Mean Squared Error (RMSE): {}\".format(np.sqrt(mse(y_test, y_pred_dt))))"
   ]
  },
  {
   "cell_type": "markdown",
   "id": "73181a08",
   "metadata": {
    "papermill": {
     "duration": 0.04831,
     "end_time": "2021-08-04T14:23:58.849311",
     "exception": false,
     "start_time": "2021-08-04T14:23:58.801001",
     "status": "completed"
    },
    "tags": []
   },
   "source": [
    "### *Random Forest*"
   ]
  },
  {
   "cell_type": "code",
   "execution_count": 364,
   "id": "49c72cb6",
   "metadata": {
    "execution": {
     "iopub.execute_input": "2021-08-04T14:23:58.950115Z",
     "iopub.status.busy": "2021-08-04T14:23:58.949342Z",
     "iopub.status.idle": "2021-08-04T14:24:12.002876Z",
     "shell.execute_reply": "2021-08-04T14:24:12.002346Z",
     "shell.execute_reply.started": "2021-08-04T14:23:08.716720Z"
    },
    "papermill": {
     "duration": 13.106137,
     "end_time": "2021-08-04T14:24:12.003026",
     "exception": false,
     "start_time": "2021-08-04T14:23:58.896889",
     "status": "completed"
    },
    "tags": []
   },
   "outputs": [
    {
     "data": {
      "text/plain": [
       "RandomForestRegressor()"
      ]
     },
     "execution_count": 364,
     "metadata": {},
     "output_type": "execute_result"
    }
   ],
   "source": [
    "# Random Forest Regression Model\n",
    "from sklearn.ensemble import RandomForestRegressor\n",
    "random_regressor = RandomForestRegressor()\n",
    "random_regressor.fit(X_train,y_train)"
   ]
  },
  {
   "cell_type": "code",
   "execution_count": 365,
   "id": "bc128e3d",
   "metadata": {
    "execution": {
     "iopub.execute_input": "2021-08-04T14:24:12.103488Z",
     "iopub.status.busy": "2021-08-04T14:24:12.102779Z",
     "iopub.status.idle": "2021-08-04T14:24:12.172614Z",
     "shell.execute_reply": "2021-08-04T14:24:12.173088Z",
     "shell.execute_reply.started": "2021-08-04T14:23:19.876231Z"
    },
    "papermill": {
     "duration": 0.123158,
     "end_time": "2021-08-04T14:24:12.173302",
     "exception": false,
     "start_time": "2021-08-04T14:24:12.050144",
     "status": "completed"
    },
    "tags": []
   },
   "outputs": [],
   "source": [
    "# Predicting results\n",
    "y_pred_rf = random_regressor.predict(X_test)"
   ]
  },
  {
   "cell_type": "code",
   "execution_count": 366,
   "id": "2edf3897",
   "metadata": {},
   "outputs": [
    {
     "data": {
      "text/plain": [
       "0.6711768895322154"
      ]
     },
     "execution_count": 366,
     "metadata": {},
     "output_type": "execute_result"
    }
   ],
   "source": [
    "# Random Forest Regression Model\n",
    "from sklearn.ensemble import RandomForestClassifier\n",
    "random_regressor.score(X_test,y_test)"
   ]
  },
  {
   "cell_type": "code",
   "execution_count": 367,
   "id": "e0216a35",
   "metadata": {
    "execution": {
     "iopub.execute_input": "2021-08-04T14:24:12.277067Z",
     "iopub.status.busy": "2021-08-04T14:24:12.276307Z",
     "iopub.status.idle": "2021-08-04T14:24:12.279851Z",
     "shell.execute_reply": "2021-08-04T14:24:12.280374Z",
     "shell.execute_reply.started": "2021-08-04T14:23:19.956316Z"
    },
    "papermill": {
     "duration": 0.059986,
     "end_time": "2021-08-04T14:24:12.280549",
     "exception": false,
     "start_time": "2021-08-04T14:24:12.220563",
     "status": "completed"
    },
    "tags": []
   },
   "outputs": [
    {
     "name": "stdout",
     "output_type": "stream",
     "text": [
      "---- Random Forest Regression - Model Evaluation ----\n",
      "Mean Absolute Error (MAE): 13.80630315574754\n",
      "Mean Squared Error (MSE): 333.16510995745347\n",
      "Root Mean Squared Error (RMSE): 18.2528110152232\n"
     ]
    }
   ],
   "source": [
    "# Random Forest Regression - Model Evaluation\n",
    "print(\"---- Random Forest Regression - Model Evaluation ----\")\n",
    "print(\"Mean Absolute Error (MAE): {}\".format(mae(y_test, y_pred_rf)))\n",
    "print(\"Mean Squared Error (MSE): {}\".format(mse(y_test, y_pred_rf)))\n",
    "print(\"Root Mean Squared Error (RMSE): {}\".format(np.sqrt(mse(y_test, y_pred_rf))))"
   ]
  },
  {
   "cell_type": "markdown",
   "id": "63ba5bc9",
   "metadata": {
    "papermill": {
     "duration": 0.047151,
     "end_time": "2021-08-04T14:24:12.377065",
     "exception": false,
     "start_time": "2021-08-04T14:24:12.329914",
     "status": "completed"
    },
    "tags": []
   },
   "source": [
    "*Note: Since Linear Regression model performs best as compared to other two, we use this model and boost it's performance using AdaBoost Algorithm*"
   ]
  },
  {
   "cell_type": "markdown",
   "id": "2e1802d8",
   "metadata": {
    "papermill": {
     "duration": 0.048124,
     "end_time": "2021-08-04T14:24:12.473653",
     "exception": false,
     "start_time": "2021-08-04T14:24:12.425529",
     "status": "completed"
    },
    "tags": []
   },
   "source": [
    "### *AdaBoost Algorithm*"
   ]
  },
  {
   "cell_type": "code",
   "execution_count": 368,
   "id": "a188a56c",
   "metadata": {
    "execution": {
     "iopub.execute_input": "2021-08-04T14:24:12.577492Z",
     "iopub.status.busy": "2021-08-04T14:24:12.576779Z",
     "iopub.status.idle": "2021-08-04T14:24:13.419574Z",
     "shell.execute_reply": "2021-08-04T14:24:13.420317Z",
     "shell.execute_reply.started": "2021-08-04T14:23:19.968513Z"
    },
    "papermill": {
     "duration": 0.898866,
     "end_time": "2021-08-04T14:24:13.420524",
     "exception": false,
     "start_time": "2021-08-04T14:24:12.521658",
     "status": "completed"
    },
    "tags": []
   },
   "outputs": [
    {
     "data": {
      "text/plain": [
       "AdaBoostRegressor(base_estimator=LinearRegression(), n_estimators=100)"
      ]
     },
     "execution_count": 368,
     "metadata": {},
     "output_type": "execute_result"
    }
   ],
   "source": [
    "# AdaBoost Model using Linear Regression as the base learner\n",
    "from sklearn.ensemble import AdaBoostRegressor\n",
    "adb_regressor = AdaBoostRegressor(base_estimator=linear_regressor, n_estimators=100)\n",
    "adb_regressor.fit(X_train, y_train)"
   ]
  },
  {
   "cell_type": "code",
   "execution_count": 369,
   "id": "98a54bd8",
   "metadata": {
    "execution": {
     "iopub.execute_input": "2021-08-04T14:24:13.570962Z",
     "iopub.status.busy": "2021-08-04T14:24:13.569726Z",
     "iopub.status.idle": "2021-08-04T14:24:13.580254Z",
     "shell.execute_reply": "2021-08-04T14:24:13.581231Z",
     "shell.execute_reply.started": "2021-08-04T14:23:20.877363Z"
    },
    "papermill": {
     "duration": 0.07767,
     "end_time": "2021-08-04T14:24:13.581506",
     "exception": false,
     "start_time": "2021-08-04T14:24:13.503836",
     "status": "completed"
    },
    "tags": []
   },
   "outputs": [],
   "source": [
    "# Predicting results\n",
    "y_pred_adb = adb_regressor.predict(X_test)"
   ]
  },
  {
   "cell_type": "code",
   "execution_count": 370,
   "id": "3f93a728",
   "metadata": {},
   "outputs": [
    {
     "data": {
      "text/plain": [
       "0.755911522426137"
      ]
     },
     "execution_count": 370,
     "metadata": {},
     "output_type": "execute_result"
    }
   ],
   "source": [
    "# Random Forest Regression Model\n",
    "from sklearn.ensemble import RandomForestClassifier\n",
    "adb_regressor.score(X_test,y_test)"
   ]
  },
  {
   "cell_type": "code",
   "execution_count": 371,
   "id": "00ce86ac",
   "metadata": {
    "execution": {
     "iopub.execute_input": "2021-08-04T14:24:13.732231Z",
     "iopub.status.busy": "2021-08-04T14:24:13.731553Z",
     "iopub.status.idle": "2021-08-04T14:24:13.735604Z",
     "shell.execute_reply": "2021-08-04T14:24:13.736265Z",
     "shell.execute_reply.started": "2021-08-04T14:23:20.900236Z"
    },
    "papermill": {
     "duration": 0.068714,
     "end_time": "2021-08-04T14:24:13.736492",
     "exception": false,
     "start_time": "2021-08-04T14:24:13.667778",
     "status": "completed"
    },
    "tags": []
   },
   "outputs": [
    {
     "name": "stdout",
     "output_type": "stream",
     "text": [
      "---- AdaBoost Regression - Model Evaluation ----\n",
      "Mean Absolute Error (MAE): 12.151373669891214\n",
      "Mean Squared Error (MSE): 247.31158450072115\n",
      "Root Mean Squared Error (RMSE): 15.72614334478486\n"
     ]
    }
   ],
   "source": [
    "# AdaBoost Regression - Model Evaluation\n",
    "print(\"---- AdaBoost Regression - Model Evaluation ----\")\n",
    "print(\"Mean Absolute Error (MAE): {}\".format(mae(y_test, y_pred_adb)))\n",
    "print(\"Mean Squared Error (MSE): {}\".format(mse(y_test, y_pred_adb)))\n",
    "print(\"Root Mean Squared Error (RMSE): {}\".format(np.sqrt(mse(y_test, y_pred_adb))))"
   ]
  },
  {
   "cell_type": "markdown",
   "id": "35bbaab2",
   "metadata": {
    "papermill": {
     "duration": 0.048361,
     "end_time": "2021-08-04T14:24:13.834848",
     "exception": false,
     "start_time": "2021-08-04T14:24:13.786487",
     "status": "completed"
    },
    "tags": []
   },
   "source": [
    "*Note: Using AdaBoost did not reduce the error to a significant level. Hence, we will you simple linear regression model for prediction*"
   ]
  },
  {
   "cell_type": "markdown",
   "id": "ab655238",
   "metadata": {},
   "source": [
    "## Ridge Regression Model + Grid Search CV"
   ]
  },
  {
   "cell_type": "code",
   "execution_count": 372,
   "id": "30eb1f4b",
   "metadata": {},
   "outputs": [],
   "source": [
    "# Ridge Regression + Grid Search CV\n",
    "from sklearn.linear_model import Ridge\n",
    "from sklearn.model_selection import GridSearchCV"
   ]
  },
  {
   "cell_type": "code",
   "execution_count": 373,
   "id": "a180b087",
   "metadata": {},
   "outputs": [],
   "source": [
    "# Loading model object \n",
    "ridge_regressor= Ridge()"
   ]
  },
  {
   "cell_type": "code",
   "execution_count": 374,
   "id": "f6efd470",
   "metadata": {},
   "outputs": [],
   "source": [
    "# defining search space for Grid Search Cv\n",
    "# prams dict\n",
    "params = {'alpha': [1e-15, 1e-10, 1e-8, 1e-3, 1e-2, 1, 5, 10, 20, 30, 35, 40]}"
   ]
  },
  {
   "cell_type": "code",
   "execution_count": 375,
   "id": "95cbbc6d",
   "metadata": {},
   "outputs": [
    {
     "name": "stderr",
     "output_type": "stream",
     "text": [
      "C:\\Users\\usha\\anaconda3\\lib\\site-packages\\sklearn\\linear_model\\_ridge.py:157: LinAlgWarning: Ill-conditioned matrix (rcond=3.24662e-20): result may not be accurate.\n",
      "  return linalg.solve(A, Xy, sym_pos=True, overwrite_a=True).T\n",
      "C:\\Users\\usha\\anaconda3\\lib\\site-packages\\sklearn\\linear_model\\_ridge.py:157: LinAlgWarning: Ill-conditioned matrix (rcond=1.47288e-18): result may not be accurate.\n",
      "  return linalg.solve(A, Xy, sym_pos=True, overwrite_a=True).T\n",
      "C:\\Users\\usha\\anaconda3\\lib\\site-packages\\sklearn\\linear_model\\_ridge.py:157: LinAlgWarning: Ill-conditioned matrix (rcond=1.53988e-18): result may not be accurate.\n",
      "  return linalg.solve(A, Xy, sym_pos=True, overwrite_a=True).T\n",
      "C:\\Users\\usha\\anaconda3\\lib\\site-packages\\sklearn\\linear_model\\_ridge.py:157: LinAlgWarning: Ill-conditioned matrix (rcond=1.43813e-18): result may not be accurate.\n",
      "  return linalg.solve(A, Xy, sym_pos=True, overwrite_a=True).T\n",
      "C:\\Users\\usha\\anaconda3\\lib\\site-packages\\sklearn\\linear_model\\_ridge.py:157: LinAlgWarning: Ill-conditioned matrix (rcond=1.60409e-18): result may not be accurate.\n",
      "  return linalg.solve(A, Xy, sym_pos=True, overwrite_a=True).T\n",
      "C:\\Users\\usha\\anaconda3\\lib\\site-packages\\sklearn\\linear_model\\_ridge.py:157: LinAlgWarning: Ill-conditioned matrix (rcond=1.58371e-18): result may not be accurate.\n",
      "  return linalg.solve(A, Xy, sym_pos=True, overwrite_a=True).T\n"
     ]
    },
    {
     "data": {
      "text/plain": [
       "GridSearchCV(cv=5, estimator=Ridge(),\n",
       "             param_grid={'alpha': [1e-15, 1e-10, 1e-08, 0.001, 0.01, 1, 5, 10,\n",
       "                                   20, 30, 35, 40]},\n",
       "             scoring='neg_mean_squared_error')"
      ]
     },
     "execution_count": 375,
     "metadata": {},
     "output_type": "execute_result"
    }
   ],
   "source": [
    "# intialize the grid search Cv for searching best alpha\n",
    "ridge_regressor = GridSearchCV(ridge_regressor, params, scoring = 'neg_mean_squared_error',cv = 5)\n",
    "\n",
    "# training our model to find best hyperparameters\n",
    "ridge_regressor.fit(X_train, y_train)"
   ]
  },
  {
   "cell_type": "markdown",
   "id": "2777b6f2",
   "metadata": {},
   "source": [
    "# Prediction \n",
    "- Predicting on test data\n",
    "- Visualizing how predicted data fit to our actual data"
   ]
  },
  {
   "cell_type": "code",
   "execution_count": 376,
   "id": "7de1094c",
   "metadata": {},
   "outputs": [],
   "source": [
    "# prediction\n",
    "y_predict_ridge= ridge_regressor.predict(X_test)"
   ]
  },
  {
   "cell_type": "code",
   "execution_count": 377,
   "id": "a9522d64",
   "metadata": {},
   "outputs": [
    {
     "name": "stdout",
     "output_type": "stream",
     "text": [
      "---- AdaBoost Regression - Model Evaluation ----\n",
      "Mean Absolute Error (MAE): 12.117294527005019\n",
      "Mean Squared Error (MSE): 251.03172964112724\n",
      "Root Mean Squared Error (RMSE): 15.843980864704655\n"
     ]
    }
   ],
   "source": [
    "# checking for scores\n",
    "from sklearn import metrics\n",
    "import numpy as np # dependencyzz\n",
    "\n",
    "# AdaBoost Regression - Model Evaluation\n",
    "print(\"---- AdaBoost Regression - Model Evaluation ----\")\n",
    "print(\"Mean Absolute Error (MAE): {}\".format(mae(y_test,y_predict_ridge)))\n",
    "print(\"Mean Squared Error (MSE): {}\".format(mse(y_test, y_predict_ridge)))\n",
    "print(\"Root Mean Squared Error (RMSE): {}\".format(np.sqrt(mse(y_test, y_predict_ridge))))"
   ]
  },
  {
   "cell_type": "code",
   "execution_count": 378,
   "id": "4891bad6",
   "metadata": {},
   "outputs": [
    {
     "data": {
      "text/plain": [
       "-251.03172964112724"
      ]
     },
     "execution_count": 378,
     "metadata": {},
     "output_type": "execute_result"
    }
   ],
   "source": [
    "# Random Forest Regression Model\n",
    "from sklearn.ensemble import RandomForestClassifier\n",
    "ridge_regressor.score(X_test,y_test)"
   ]
  },
  {
   "cell_type": "markdown",
   "id": "e25478bd",
   "metadata": {
    "papermill": {
     "duration": 0.047802,
     "end_time": "2021-08-04T14:24:13.930782",
     "exception": false,
     "start_time": "2021-08-04T14:24:13.882980",
     "status": "completed"
    },
    "tags": []
   },
   "source": [
    "## **Predictions**\n",
    "• Model *trained on* the data from **IPL Seasons 1 to 9** ie: (2008 to 2016)<br/>\n",
    "• Model *tested on* data from **IPL Season 10** ie: (2017)<br/>\n",
    "• Model *predicts on* data from **IPL Seasons 11 to 12** ie: (2018 to 2019)"
   ]
  },
  {
   "cell_type": "code",
   "execution_count": 379,
   "id": "b4bb2ca4",
   "metadata": {
    "execution": {
     "iopub.execute_input": "2021-08-04T14:24:14.047743Z",
     "iopub.status.busy": "2021-08-04T14:24:14.044972Z",
     "iopub.status.idle": "2021-08-04T14:24:14.050188Z",
     "shell.execute_reply": "2021-08-04T14:24:14.050677Z",
     "shell.execute_reply.started": "2021-08-04T14:23:20.916709Z"
    },
    "papermill": {
     "duration": 0.070737,
     "end_time": "2021-08-04T14:24:14.050861",
     "exception": false,
     "start_time": "2021-08-04T14:24:13.980124",
     "status": "completed"
    },
    "tags": []
   },
   "outputs": [],
   "source": [
    "def predict_score(batting_team='Chennai Super Kings', bowling_team='Mumbai Indians', overs=5.1, runs=50, wickets=0, runs_in_prev_5=50, wickets_in_prev_5=0):\n",
    "  temp_array = list()\n",
    "\n",
    "  # Batting Team\n",
    "  if batting_team == 'Chennai Super Kings':\n",
    "    temp_array = temp_array + [1,0,0,0,0,0,0,0]\n",
    "  elif batting_team == 'Delhi Daredevils':\n",
    "    temp_array = temp_array + [0,1,0,0,0,0,0,0]\n",
    "  elif batting_team == 'Kings XI Punjab':\n",
    "    temp_array = temp_array + [0,0,1,0,0,0,0,0]\n",
    "  elif batting_team == 'Kolkata Knight Riders':\n",
    "    temp_array = temp_array + [0,0,0,1,0,0,0,0]\n",
    "  elif batting_team == 'Mumbai Indians':\n",
    "    temp_array = temp_array + [0,0,0,0,1,0,0,0]\n",
    "  elif batting_team == 'Rajasthan Royals':\n",
    "    temp_array = temp_array + [0,0,0,0,0,1,0,0]\n",
    "  elif batting_team == 'Royal Challengers Bangalore':\n",
    "    temp_array = temp_array + [0,0,0,0,0,0,1,0]\n",
    "  elif batting_team == 'Sunrisers Hyderabad':\n",
    "    temp_array = temp_array + [0,0,0,0,0,0,0,1]\n",
    "\n",
    "  # Bowling Team\n",
    "  if bowling_team == 'Chennai Super Kings':\n",
    "    temp_array = temp_array + [1,0,0,0,0,0,0,0]\n",
    "  elif bowling_team == 'Delhi Daredevils':\n",
    "    temp_array = temp_array + [0,1,0,0,0,0,0,0]\n",
    "  elif bowling_team == 'Kings XI Punjab':\n",
    "    temp_array = temp_array + [0,0,1,0,0,0,0,0]\n",
    "  elif bowling_team == 'Kolkata Knight Riders':\n",
    "    temp_array = temp_array + [0,0,0,1,0,0,0,0]\n",
    "  elif bowling_team == 'Mumbai Indians':\n",
    "    temp_array = temp_array + [0,0,0,0,1,0,0,0]\n",
    "  elif bowling_team == 'Rajasthan Royals':\n",
    "    temp_array = temp_array + [0,0,0,0,0,1,0,0]\n",
    "  elif bowling_team == 'Royal Challengers Bangalore':\n",
    "    temp_array = temp_array + [0,0,0,0,0,0,1,0]\n",
    "  elif bowling_team == 'Sunrisers Hyderabad':\n",
    "    temp_array = temp_array + [0,0,0,0,0,0,0,1]\n",
    "\n",
    "  # Overs, Runs, Wickets, Runs_in_prev_5, Wickets_in_prev_5\n",
    "  temp_array = temp_array + [overs, runs, wickets, runs_in_prev_5, wickets_in_prev_5]\n",
    "\n",
    "  # Converting into numpy array\n",
    "  temp_array = np.array([temp_array])\n",
    "\n",
    "  # Prediction\n",
    "  return int(linear_regressor.predict(temp_array)[0])"
   ]
  },
  {
   "cell_type": "markdown",
   "id": "4efced5d",
   "metadata": {
    "papermill": {
     "duration": 0.047468,
     "end_time": "2021-08-04T14:24:14.147810",
     "exception": false,
     "start_time": "2021-08-04T14:24:14.100342",
     "status": "completed"
    },
    "tags": []
   },
   "source": [
    "***Prediction 1*** </br>\n",
    "• Date: 16th April 2018</br>\n",
    "• IPL : Season 11</br>\n",
    "• Match number: 13</br>\n",
    "• Teams: Kolkata Knight Riders vs. Delhi Daredevils</br>\n",
    "1. • First Innings final score: 200/9</br>"
   ]
  },
  {
   "cell_type": "code",
   "execution_count": 380,
   "id": "d7e5ff19",
   "metadata": {
    "execution": {
     "iopub.execute_input": "2021-08-04T14:24:14.248605Z",
     "iopub.status.busy": "2021-08-04T14:24:14.247650Z",
     "iopub.status.idle": "2021-08-04T14:24:14.255555Z",
     "shell.execute_reply": "2021-08-04T14:24:14.256406Z",
     "shell.execute_reply.started": "2021-08-04T14:23:20.946655Z"
    },
    "papermill": {
     "duration": 0.059659,
     "end_time": "2021-08-04T14:24:14.256653",
     "exception": false,
     "start_time": "2021-08-04T14:24:14.196994",
     "status": "completed"
    },
    "tags": []
   },
   "outputs": [
    {
     "name": "stdout",
     "output_type": "stream",
     "text": [
      "The final predicted score (range): 159 to 174\n"
     ]
    },
    {
     "name": "stderr",
     "output_type": "stream",
     "text": [
      "C:\\Users\\usha\\anaconda3\\lib\\site-packages\\sklearn\\base.py:450: UserWarning: X does not have valid feature names, but LinearRegression was fitted with feature names\n",
      "  warnings.warn(\n"
     ]
    }
   ],
   "source": [
    "final_score = predict_score(\n",
    "    batting_team='Kolkata Knight Riders', \n",
    "    bowling_team='Delhi Daredevils', \n",
    "    overs=9.2, \n",
    "    runs=79, \n",
    "    wickets=2, \n",
    "    runs_in_prev_5=60, \n",
    "    wickets_in_prev_5=1)\n",
    "print(\"The final predicted score (range): {} to {}\".format(final_score-10, final_score+5))"
   ]
  },
  {
   "cell_type": "markdown",
   "id": "424ff598",
   "metadata": {
    "papermill": {
     "duration": 0.058688,
     "end_time": "2021-08-04T14:24:14.375190",
     "exception": false,
     "start_time": "2021-08-04T14:24:14.316502",
     "status": "completed"
    },
    "tags": []
   },
   "source": [
    "***Prediction 2***</br>\n",
    "• Date: 30th March 2019</br>\n",
    "• IPL : Season 12</br>\n",
    "• Match number: 9</br>\n",
    "• Teams: Mumbai Indians vs. Kings XI Punjab</br>\n",
    "• First Innings final score: 176/7</br>"
   ]
  },
  {
   "cell_type": "code",
   "execution_count": 381,
   "id": "4f871e60",
   "metadata": {
    "execution": {
     "iopub.execute_input": "2021-08-04T14:24:14.482565Z",
     "iopub.status.busy": "2021-08-04T14:24:14.481710Z",
     "iopub.status.idle": "2021-08-04T14:24:14.485538Z",
     "shell.execute_reply": "2021-08-04T14:24:14.486063Z",
     "shell.execute_reply.started": "2021-08-04T14:23:20.963151Z"
    },
    "papermill": {
     "duration": 0.059554,
     "end_time": "2021-08-04T14:24:14.486255",
     "exception": false,
     "start_time": "2021-08-04T14:24:14.426701",
     "status": "completed"
    },
    "tags": []
   },
   "outputs": [
    {
     "name": "stdout",
     "output_type": "stream",
     "text": [
      "The final predicted score (range): 179 to 194\n"
     ]
    },
    {
     "name": "stderr",
     "output_type": "stream",
     "text": [
      "C:\\Users\\usha\\anaconda3\\lib\\site-packages\\sklearn\\base.py:450: UserWarning: X does not have valid feature names, but LinearRegression was fitted with feature names\n",
      "  warnings.warn(\n"
     ]
    }
   ],
   "source": [
    "final_score = predict_score(\n",
    "    batting_team='Mumbai Indians', \n",
    "    bowling_team='Kings XI Punjab', \n",
    "    overs=12.3, \n",
    "    runs=113, \n",
    "    wickets=2, \n",
    "    runs_in_prev_5=55, \n",
    "    wickets_in_prev_5=0)\n",
    "print(\"The final predicted score (range): {} to {}\".format(final_score-10, final_score+5))"
   ]
  },
  {
   "cell_type": "markdown",
   "id": "d1b20b03",
   "metadata": {
    "papermill": {
     "duration": 0.048431,
     "end_time": "2021-08-04T14:24:14.583717",
     "exception": false,
     "start_time": "2021-08-04T14:24:14.535286",
     "status": "completed"
    },
    "tags": []
   },
   "source": [
    "***Prediction 3*** </br>\n",
    "• Date: 10th May 2019<br/>\n",
    "• IPL : Season 12<br/>\n",
    "• Match number: 59 (Eliminator)<br/>\n",
    "• Teams: Delhi Daredevils vs. Chennai Super Kings<br/>\n",
    "• First Innings final score: 147/9"
   ]
  },
  {
   "cell_type": "code",
   "execution_count": 382,
   "id": "e6611322",
   "metadata": {
    "execution": {
     "iopub.execute_input": "2021-08-04T14:24:14.684766Z",
     "iopub.status.busy": "2021-08-04T14:24:14.684086Z",
     "iopub.status.idle": "2021-08-04T14:24:14.691029Z",
     "shell.execute_reply": "2021-08-04T14:24:14.690377Z",
     "shell.execute_reply.started": "2021-08-04T14:23:20.980829Z"
    },
    "papermill": {
     "duration": 0.058085,
     "end_time": "2021-08-04T14:24:14.691242",
     "exception": false,
     "start_time": "2021-08-04T14:24:14.633157",
     "status": "completed"
    },
    "tags": []
   },
   "outputs": [
    {
     "name": "stdout",
     "output_type": "stream",
     "text": [
      "The final predicted score (range): 137 to 152\n"
     ]
    },
    {
     "name": "stderr",
     "output_type": "stream",
     "text": [
      "C:\\Users\\usha\\anaconda3\\lib\\site-packages\\sklearn\\base.py:450: UserWarning: X does not have valid feature names, but LinearRegression was fitted with feature names\n",
      "  warnings.warn(\n"
     ]
    }
   ],
   "source": [
    "final_score = predict_score(\n",
    "    batting_team='Delhi Daredevils', \n",
    "    bowling_team='Chennai Super Kings', \n",
    "    overs=10.2, \n",
    "    runs=68, \n",
    "    wickets=3, \n",
    "    runs_in_prev_5=29,\n",
    "    wickets_in_prev_5=1)\n",
    "print(\"The final predicted score (range): {} to {}\".format(final_score-10, final_score+5))"
   ]
  },
  {
   "cell_type": "code",
   "execution_count": 383,
   "id": "a9086b3f",
   "metadata": {},
   "outputs": [],
   "source": [
    "# creating our model pickel file - saving model\n",
    "file_name = 'ipl_score_model.pkl'\n",
    "pickle.dump(linear_regressor, open(file_name,'wb'))"
   ]
  },
  {
   "cell_type": "code",
   "execution_count": 384,
   "id": "c88ca37c",
   "metadata": {},
   "outputs": [
    {
     "data": {
      "text/plain": [
       "['ipl_score_model.sav']"
      ]
     },
     "execution_count": 384,
     "metadata": {},
     "output_type": "execute_result"
    }
   ],
   "source": [
    "joblib.dump(linear_regressor,'ipl_score_model.sav')"
   ]
  }
 ],
 "metadata": {
  "kernelspec": {
   "display_name": "Python 3.10.4 64-bit",
   "language": "python",
   "name": "python3"
  },
  "language_info": {
   "codemirror_mode": {
    "name": "ipython",
    "version": 3
   },
   "file_extension": ".py",
   "mimetype": "text/x-python",
   "name": "python",
   "nbconvert_exporter": "python",
   "pygments_lexer": "ipython3",
   "version": "3.10.4"
  },
  "papermill": {
   "default_parameters": {},
   "duration": 32.918497,
   "end_time": "2021-08-04T14:24:16.304872",
   "environment_variables": {},
   "exception": null,
   "input_path": "__notebook__.ipynb",
   "output_path": "__notebook__.ipynb",
   "parameters": {},
   "start_time": "2021-08-04T14:23:43.386375",
   "version": "2.3.3"
  },
  "vscode": {
   "interpreter": {
    "hash": "d151b159040e1089256a85f6a9ff35474ceb544dc977fddbd694838754018d96"
   }
  }
 },
 "nbformat": 4,
 "nbformat_minor": 5
}
